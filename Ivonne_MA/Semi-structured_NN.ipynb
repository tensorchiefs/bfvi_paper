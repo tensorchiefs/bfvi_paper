{
 "cells": [
  {
   "cell_type": "markdown",
   "source": [
    "# Semi-structured NN \n",
    "## ISIC archive 2020 melanoma dataset\n",
    "https://challenge2020.isic-archive.com/"
   ],
   "metadata": {}
  },
  {
   "cell_type": "code",
   "execution_count": 113,
   "source": [
    "# packages\n",
    "import pandas as pd\n",
    "import numpy as np\n",
    "import matplotlib.pyplot as plt\n",
    "import tensorflow as tf\n",
    "import tensorflow_probability as tfp\n",
    "from tensorflow.keras import layers\n",
    "from keras.layers import Dropout\n",
    "from tensorflow import keras\n",
    "import seaborn as sns\n",
    "import keras\n",
    "import warnings\n",
    "warnings.simplefilter(action='ignore', category=FutureWarning)\n",
    "from numpy.random import seed\n",
    "from tensorflow.keras import backend as K\n",
    "from tensorflow.keras.optimizers import RMSprop\n",
    "from tensorflow.keras import initializers\n",
    "from tensorflow.keras.models import Model\n",
    "from tensorflow_probability import distributions as tfd\n",
    "from keras.preprocessing.image import ImageDataGenerator, load_img, img_to_array, array_to_img, save_img\n",
    "\n",
    "%load_ext autoreload\n",
    "%autoreload 2\n",
    "from functions.scoreCI import score_ci, score_stat_ci\n",
    "from functions.vimlts import VimltsLinear\n",
    "from functions.sample_bernoulli_nll import sample_bernoulli_nll\n",
    "\n",
    "from sklearn import preprocessing\n",
    "from sklearn.metrics import roc_curve, auc, log_loss, roc_auc_score"
   ],
   "outputs": [
    {
     "output_type": "stream",
     "name": "stdout",
     "text": [
      "The autoreload extension is already loaded. To reload it, use:\n",
      "  %reload_ext autoreload\n"
     ]
    }
   ],
   "metadata": {}
  },
  {
   "cell_type": "markdown",
   "source": [
    "## Import data"
   ],
   "metadata": {}
  },
  {
   "cell_type": "markdown",
   "source": [
    "- Image dataset resized to 128,128,3\n",
    "- Tabular data with standardized age mean 0, variance 1\n",
    "- 80% training set, 20% of training set used for validation set, 20% test set"
   ],
   "metadata": {}
  },
  {
   "cell_type": "code",
   "execution_count": 27,
   "source": [
    "## add resize images and add path to patient\n",
    "dat = pd.read_csv('../MA/patientData.csv')\n",
    "train_dir = \"../MA/trainRes/\"\n",
    "dat['path'] = train_dir + dat.image_name + \".jpg\""
   ],
   "outputs": [],
   "metadata": {}
  },
  {
   "cell_type": "code",
   "execution_count": 28,
   "source": [
    "np.random.seed(3004)\n",
    "idx = np.arange(len(dat))\n",
    "np.random.shuffle(idx)\n",
    "\n",
    "\n",
    "train_idx = idx[:int(len(dat)*0.8)] \n",
    "test_idx = idx[int(len(dat)*0.8):] \n",
    "valid_idx = train_idx[:int(len(train_idx)*0.2)] \n",
    "train_idx = train_idx[int(len(train_idx)*0.2):]\n",
    "print(train_idx.shape, valid_idx.shape, test_idx.shape)"
   ],
   "outputs": [
    {
     "output_type": "stream",
     "name": "stdout",
     "text": [
      "(21200,) (5300,) (6626,)\n"
     ]
    }
   ],
   "metadata": {}
  },
  {
   "cell_type": "code",
   "execution_count": 29,
   "source": [
    "X_train = dat.iloc[train_idx]\n",
    "X_valid= dat.iloc[valid_idx]\n",
    "X_test= dat.iloc[test_idx]\n",
    "print(X_train.shape, X_valid.shape, X_test.shape)"
   ],
   "outputs": [
    {
     "output_type": "stream",
     "name": "stdout",
     "text": [
      "(21200, 9) (5300, 9) (6626, 9)\n"
     ]
    }
   ],
   "metadata": {}
  },
  {
   "cell_type": "code",
   "execution_count": 30,
   "source": [
    "y_train = dat.iloc[train_idx]\n",
    "y_train = y_train.loc[:, y_train.columns.intersection(['target'])]\n",
    "y_valid= dat.iloc[valid_idx]\n",
    "y_valid = y_valid.loc[:, y_train.columns.intersection(['target'])]\n",
    "y_test= dat.iloc[test_idx]\n",
    "y_test = y_test.loc[:, y_train.columns.intersection(['target'])]\n",
    "print(y_train.shape, y_valid.shape, y_test.shape)"
   ],
   "outputs": [
    {
     "output_type": "stream",
     "name": "stdout",
     "text": [
      "(21200, 1) (5300, 1) (6626, 1)\n"
     ]
    }
   ],
   "metadata": {}
  },
  {
   "cell_type": "code",
   "execution_count": 31,
   "source": [
    "X_trainAge = dat.iloc[train_idx]\n",
    "X_trainAge = X_train.loc[:, X_train.columns.intersection(['age_approx'])]\n",
    "X_validAge= dat.iloc[valid_idx]\n",
    "X_validAge = X_valid.loc[:, X_train.columns.intersection(['age_approx'])]\n",
    "X_testAge= dat.iloc[test_idx]\n",
    "X_testAge = X_test.loc[:, X_train.columns.intersection(['age_approx'])]"
   ],
   "outputs": [],
   "metadata": {}
  },
  {
   "cell_type": "markdown",
   "source": [
    "## Standardize tabular data"
   ],
   "metadata": {}
  },
  {
   "cell_type": "code",
   "execution_count": 32,
   "source": [
    "def standard(data):\n",
    "    mean = np.mean(data)\n",
    "    std = np.std(data)\n",
    "    standard = (data - mean) / std\n",
    "    return standard"
   ],
   "outputs": [],
   "metadata": {}
  },
  {
   "cell_type": "code",
   "execution_count": 33,
   "source": [
    "standAgeTr = standard(X_trainAge)\n",
    "standAgeVal = standard(X_validAge)\n",
    "standAgeTe= standard(X_testAge)"
   ],
   "outputs": [],
   "metadata": {}
  },
  {
   "cell_type": "markdown",
   "source": [
    "## Image data preprocessing"
   ],
   "metadata": {}
  },
  {
   "cell_type": "code",
   "execution_count": 34,
   "source": [
    "# save image path\n",
    "train_files = X_train.path\n",
    "val_files = X_valid.path\n",
    "test_files = X_test.path\n",
    "\n",
    "# img_to_array \n",
    "train_imgs = [img_to_array(load_img(img)) for img in train_files]\n",
    "validation_imgs = [img_to_array(load_img(img)) for img in val_files]\n",
    "test_imgs = [img_to_array(load_img(img)) for img in test_files]\n",
    "\n",
    "train_imgs = np.array(train_imgs)\n",
    "train_labels = y_train\n",
    "\n",
    "validation_imgs = np.array(validation_imgs)\n",
    "val_labels = y_valid\n",
    "\n",
    "test_imgs = np.array(test_imgs)\n",
    "test_labels = y_test\n",
    "\n",
    "\n",
    "print('Train dataset shape:', train_imgs.shape, '\\tValidation dataset shape:', validation_imgs.shape,\n",
    "      '\\Test dataset shape:', test_imgs.shape)"
   ],
   "outputs": [
    {
     "output_type": "stream",
     "name": "stdout",
     "text": [
      "Train dataset shape: (21200, 128, 128, 3) \tValidation dataset shape: (5300, 128, 128, 3) \\Test dataset shape: (6626, 128, 128, 3)\n"
     ]
    }
   ],
   "metadata": {}
  },
  {
   "cell_type": "code",
   "execution_count": 35,
   "source": [
    "#scale pixel between 0 und 1\n",
    "\n",
    "train_imgs_scaled = train_imgs.astype('float32')\n",
    "validation_imgs_scaled  = validation_imgs.astype('float32')\n",
    "test_imgs_scaled  = test_imgs.astype('float32')\n",
    "train_labels = train_labels.astype(\"float32\")\n",
    "val_labels = val_labels.astype(\"float32\")\n",
    "val_labels = val_labels.astype(\"float32\")\n",
    "\n",
    "train_imgs_scaled /= 255\n",
    "validation_imgs_scaled /= 255\n",
    "test_imgs_scaled /= 255\n",
    "\n",
    "#plt.imshow(train_imgs_scaled[0])"
   ],
   "outputs": [],
   "metadata": {}
  },
  {
   "cell_type": "markdown",
   "source": [
    "### Functions "
   ],
   "metadata": {}
  },
  {
   "cell_type": "code",
   "execution_count": 88,
   "source": [
    "def softplus_inv(y):\n",
    "    return np.log(np.exp(y) - 1)\n",
    "\n",
    "def neg_log_likelihood(y_obs, y_pred):\n",
    "    likelihoodElements= -(y_obs*np.log(y_pred) + (1 - y_obs)*np.log(1 - y_pred))\n",
    "    nll = np.mean(likelihoodElements)\n",
    "    return print(nll.values[0])"
   ],
   "outputs": [],
   "metadata": {}
  },
  {
   "cell_type": "markdown",
   "source": [
    "### Parameters"
   ],
   "metadata": {}
  },
  {
   "cell_type": "code",
   "execution_count": 37,
   "source": [
    "opt = RMSprop()\n",
    "batch_size=256\n",
    "num_samples = 1000\n",
    "M=50 \n",
    "prior_dist=tfd.Normal(loc=0.,scale=1.)"
   ],
   "outputs": [],
   "metadata": {}
  },
  {
   "cell_type": "markdown",
   "source": [
    "## CNN without TM-VI"
   ],
   "metadata": {}
  },
  {
   "cell_type": "code",
   "execution_count": 38,
   "source": [
    "initializer = keras.initializers.HeNormal(seed = 3004)\n",
    "    \n",
    "inImg = keras.Input(shape = (128,128,3), name = \"inImg\")\n",
    "\n",
    "x = layers.Convolution2D(32, kernel_size=(3, 3), padding = 'same', \n",
    "                             activation = 'tanh', kernel_initializer = initializer)(inImg)\n",
    "x = layers.BatchNormalization(center=True, scale=True)(x)\n",
    "x = layers.MaxPooling2D(pool_size=(2, 2))(x) \n",
    "                        \n",
    "x = layers.Convolution2D(32, kernel_size=(3, 3), padding = 'same', \n",
    "                             activation = 'tanh', kernel_initializer = initializer)(x)\n",
    "x = layers.BatchNormalization(center=True, scale=True)(x)\n",
    "x = layers.MaxPooling2D(pool_size=(2, 2))(x)\n",
    "x = layers.Convolution2D(64, kernel_size=(3, 3), padding = 'same', \n",
    "                             activation = 'tanh', kernel_initializer = initializer)(x)\n",
    "x = layers.BatchNormalization(center=True, scale=True)(x)\n",
    "x = layers.MaxPooling2D(pool_size=(2, 2))(x)\n",
    "x = layers.Convolution2D(64, kernel_size=(3, 3,), padding = 'same', \n",
    "                             activation = 'tanh', kernel_initializer = initializer)(x)\n",
    "x = layers.BatchNormalization(center=True, scale=True)(x)\n",
    "x = layers.MaxPooling2D(pool_size=(2, 2))(x)\n",
    "x = layers.Convolution2D(128, kernel_size=(3, 3), padding = 'same', \n",
    "                             activation = 'tanh', kernel_initializer = initializer)(x)\n",
    "x = layers.BatchNormalization(center=True, scale=True)(x)\n",
    "x = layers.MaxPooling2D(pool_size=(2, 2))(x)\n",
    "x = layers.Flatten()(x)\n",
    "x = layers.Dense(128, activation = 'tanh', kernel_initializer = initializer)(x)\n",
    "x = layers.BatchNormalization(center=True, scale=True)(x)\n",
    "x = layers.Dropout(0.3)(x)\n",
    "x = layers.Dense(128, activation = 'tanh', kernel_initializer = initializer)(x)\n",
    "x = layers.BatchNormalization(center=True, scale=True)(x)\n",
    "x = layers.Dropout(0.3)(x)\n",
    "    \n",
    "out = layers.Dense(1, activation = \"sigmoid\")(x) \n",
    "    \n",
    "imageMod = Model(inImg, out)\n",
    "\n",
    "#imageMod.summary()"
   ],
   "outputs": [],
   "metadata": {}
  },
  {
   "cell_type": "code",
   "execution_count": 39,
   "source": [
    "imageMod.compile(loss=\"binary_crossentropy\", optimizer=opt,run_eagerly=False)"
   ],
   "outputs": [],
   "metadata": {}
  },
  {
   "cell_type": "code",
   "execution_count": 40,
   "source": [
    "results = imageMod.fit(x=train_imgs_scaled,\n",
    "                       y = train_labels,\n",
    "                       validation_data = (validation_imgs_scaled, val_labels),\n",
    "                       batch_size=batch_size,\n",
    "                       epochs = 50,\n",
    "                       verbose= False)   "
   ],
   "outputs": [],
   "metadata": {}
  },
  {
   "cell_type": "code",
   "execution_count": 44,
   "source": [
    "### save model weights\n",
    "#imageMod.save_weights(\"models/CNN\", save_format =\"tf\")"
   ],
   "outputs": [],
   "metadata": {}
  },
  {
   "cell_type": "code",
   "execution_count": 41,
   "source": [
    "plt.figure(figsize=(7,4))\n",
    "plt.plot(imageMod.history.history['loss'],label=\"Train Loss\")\n",
    "plt.plot(imageMod.history.history['val_loss'], label=\"Validation Loss\")\n",
    "plt.legend()\n",
    "plt.xlabel(\"epochs\")\n",
    "plt.ylabel(\"loss\")\n",
    "plt.legend(fontsize='x-small')"
   ],
   "outputs": [
    {
     "output_type": "execute_result",
     "data": {
      "text/plain": [
       "<matplotlib.legend.Legend at 0x7f2cf5adbf70>"
      ]
     },
     "metadata": {},
     "execution_count": 41
    },
    {
     "output_type": "display_data",
     "data": {
      "image/png": "[encoded data removed]",
      "text/plain": [
       "<Figure size 504x288 with 1 Axes>"
      ]
     },
     "metadata": {
      "needs_background": "light"
     }
    }
   ],
   "metadata": {}
  },
  {
   "cell_type": "markdown",
   "source": [
    "### Performance NLL & AUC"
   ],
   "metadata": {}
  },
  {
   "cell_type": "code",
   "execution_count": 82,
   "source": [
    "y_pred = imageMod.predict(test_imgs_scaled).ravel()\n",
    "predictions=y_pred.reshape(6626,1)"
   ],
   "outputs": [],
   "metadata": {}
  },
  {
   "cell_type": "code",
   "execution_count": 90,
   "source": [
    "## NLL\n",
    "neg_log_likelihood(test_labels, predictions)"
   ],
   "outputs": [
    {
     "output_type": "stream",
     "name": "stdout",
     "text": [
      "0.08480645633335343\n"
     ]
    }
   ],
   "metadata": {}
  },
  {
   "cell_type": "code",
   "execution_count": 91,
   "source": [
    "###AUC\n",
    "score, ci_lower, ci_upper, scores =score_ci(test_labels, y_pred, score_fun=roc_auc_score)\n",
    "print(\"AUC={:.2f}, 95% CI: {:.2f}-{:.2f}\".format(score, ci_lower, ci_upper))\n",
    "ciAuc= \"{:.2f}-{:.2f}\".format(ci_lower, ci_upper)\n",
    "log_loss = \"{:.3f}\".format(log_lossCNN)\n",
    "auc= \"{:.2f}\".format(auc_kerasCNN)"
   ],
   "outputs": [
    {
     "output_type": "stream",
     "name": "stdout",
     "text": [
      "AUC=0.76, 95% CI: 0.71-0.80\n"
     ]
    }
   ],
   "metadata": {}
  },
  {
   "cell_type": "markdown",
   "source": [
    "## CNN + Tabular BF-VI"
   ],
   "metadata": {}
  },
  {
   "cell_type": "code",
   "execution_count": 93,
   "source": [
    "## Complex shift image\n",
    "\n",
    "initializer = keras.initializers.HeNormal(seed = 2802)\n",
    "    \n",
    "inImg = keras.Input(shape = (128,128,3), name = \"inImg\")\n",
    "\n",
    "x = layers.Convolution2D(32, kernel_size=(3, 3), padding = 'same', \n",
    "                             activation = 'tanh', kernel_initializer = initializer)(inImg)\n",
    "x = layers.BatchNormalization(center=True, scale=True)(x)\n",
    "x = layers.MaxPooling2D(pool_size=(2, 2))(x) \n",
    "                        \n",
    "x = layers.Convolution2D(32, kernel_size=(3, 3), padding = 'same', \n",
    "                             activation = 'tanh', kernel_initializer = initializer)(x)\n",
    "x = layers.BatchNormalization(center=True, scale=True)(x)\n",
    "x = layers.MaxPooling2D(pool_size=(2, 2))(x)\n",
    "x = layers.Convolution2D(64, kernel_size=(3, 3), padding = 'same', \n",
    "                             activation = 'tanh', kernel_initializer = initializer)(x)\n",
    "x = layers.BatchNormalization(center=True, scale=True)(x)\n",
    "x = layers.MaxPooling2D(pool_size=(2, 2))(x)\n",
    "x = layers.Convolution2D(64, kernel_size=(3, 3,), padding = 'same', \n",
    "                             activation = 'tanh', kernel_initializer = initializer)(x)\n",
    "x = layers.BatchNormalization(center=True, scale=True)(x)\n",
    "x = layers.MaxPooling2D(pool_size=(2, 2))(x)\n",
    "x = layers.Convolution2D(128, kernel_size=(3, 3), padding = 'same', \n",
    "                             activation = 'tanh', kernel_initializer = initializer)(x)\n",
    "x = layers.BatchNormalization(center=True, scale=True)(x)\n",
    "x = layers.MaxPooling2D(pool_size=(2, 2))(x)\n",
    "x = layers.Flatten()(x)\n",
    "x = layers.Dense(128, activation = 'tanh', kernel_initializer = initializer)(x)\n",
    "x = layers.BatchNormalization(center=True, scale=True)(x)\n",
    "x = layers.Dropout(0.3)(x)\n",
    "x = layers.Dense(128, activation = 'tanh', kernel_initializer = initializer)(x)\n",
    "x = layers.BatchNormalization(center=True, scale=True)(x)\n",
    "x = layers.Dropout(0.3)(x)\n",
    "    \n",
    "eta = layers.Dense(1, activation = \"linear\")(x) \n",
    "    \n",
    "out = K.expand_dims(eta, axis=0)\n",
    "outr = tf.keras.backend.repeat_elements(out,1000,axis=0)\n",
    "\n",
    "\n",
    "nn_img = Model(inImg, outr)\n",
    "\n",
    "#nn_img.summary()"
   ],
   "outputs": [],
   "metadata": {}
  },
  {
   "cell_type": "code",
   "execution_count": 95,
   "source": [
    "### Linear shift tabular MF-TMVI-Methode\n",
    "\n",
    "\n",
    "theta_start = -1\n",
    "theta_stop = 1\n",
    "delta_theta = softplus_inv((theta_stop-theta_start)/(M))\n",
    "vimlts_initializersConv2D=dict(kernel_init_alpha_w = initializers.Constant(1.),\n",
    "                             kernel_init_beta_w = initializers.Constant(0.),\n",
    "                             kernel_init_alpha_z = initializers.Constant(1.),\n",
    "                             kernel_init_beta_z = initializers.Constant(0.),\n",
    "                             kernel_init_thetas = [initializers.Constant(theta_start)] \n",
    "                               + [initializers.Constant(delta_theta) for _ in range(M)])\n",
    "\n",
    "\n",
    "\n",
    "inCov = keras.Input(shape = standAgeTr.shape[1:], name = 'inCov')\n",
    "outCov = VimltsLinear(units=1,\n",
    "                      activation=tf.keras.activations.linear,\n",
    "                      num_samples=num_samples,\n",
    "                      size = standAgeTr.shape[0],\n",
    "                      **vimlts_initializersConv2D,\n",
    "                      prior_dist=prior_dist)(inCov)\n",
    "\n",
    "nn_tab = keras.Model(inputs = inCov, outputs = outCov)\n",
    "nn_tab.summary()"
   ],
   "outputs": [
    {
     "output_type": "stream",
     "name": "stdout",
     "text": [
      "WARNING:tensorflow:AutoGraph could not transform <bound method VimltsLinear.call of <functions.vimlts.VimltsLinear object at 0x7f2cf588c130>> and will run it as-is.\n",
      "Please report this to the TensorFlow team. When filing the bug, set the verbosity to 10 (on Linux, `export AUTOGRAPH_VERBOSITY=10`) and attach the full output.\n",
      "Cause: invalid syntax (tmpeno_7g34.py, line 51)\n",
      "To silence this warning, decorate the function with @tf.autograph.experimental.do_not_convert\n",
      "WARNING: AutoGraph could not transform <bound method VimltsLinear.call of <functions.vimlts.VimltsLinear object at 0x7f2cf588c130>> and will run it as-is.\n",
      "Please report this to the TensorFlow team. When filing the bug, set the verbosity to 10 (on Linux, `export AUTOGRAPH_VERBOSITY=10`) and attach the full output.\n",
      "Cause: invalid syntax (tmpeno_7g34.py, line 51)\n",
      "To silence this warning, decorate the function with @tf.autograph.experimental.do_not_convert\n",
      "Model: \"model_3\"\n",
      "_________________________________________________________________\n",
      "Layer (type)                 Output Shape              Param #   \n",
      "=================================================================\n",
      "inCov (InputLayer)           [(None, 1)]               0         \n",
      "_________________________________________________________________\n",
      "vimlts_linear (VimltsLinear) (1000, None, 1)           55        \n",
      "=================================================================\n",
      "Total params: 55\n",
      "Trainable params: 55\n",
      "Non-trainable params: 0\n",
      "_________________________________________________________________\n"
     ]
    }
   ],
   "metadata": {}
  },
  {
   "cell_type": "code",
   "execution_count": 96,
   "source": [
    "def combinedModel(X, X_meta):\n",
    "    added = tf.keras.layers.Add()([X_meta.output, X.output]) \n",
    "    out = tf.keras.layers.Dense(train_labels.shape[1], activation = 'sigmoid')(added)\n",
    "    model = keras.Model(inputs = [X_meta.input, X.input], outputs = out, name='model_2')\n",
    "    return model"
   ],
   "outputs": [],
   "metadata": {}
  },
  {
   "cell_type": "code",
   "execution_count": 97,
   "source": [
    "model = combinedModel(nn_tab, nn_img)\n",
    "model.compile(loss=sample_bernoulli_nll, optimizer=opt,run_eagerly=False,metrics=[sample_bernoulli_nll])"
   ],
   "outputs": [],
   "metadata": {}
  },
  {
   "cell_type": "code",
   "execution_count": null,
   "source": [
    "results = model.fit(x=[train_imgs_scaled, standAgeTr],\n",
    "                     y = train_labels,\n",
    "                     validation_data = ([validation_imgs_scaled, standAgeVal], val_labels),\n",
    "                     batch_size=batch_size,\n",
    "                     epochs = 10,\n",
    "                     verbose= False) \n",
    "### save model weights\n",
    "#model1.save_weights(\"models/CNN+MFBFTabular\", save_format =\"tf\")"
   ],
   "outputs": [],
   "metadata": {}
  },
  {
   "cell_type": "code",
   "execution_count": 98,
   "source": [
    "### recreate Model\n",
    "model.compile(optimizer=RMSprop(), loss=sample_bernoulli_nll, run_eagerly=False,metrics=[sample_bernoulli_nll])\n",
    "model.fit(x =[train_imgs_scaled,standAgeTr],y = train_labels, verbose=True)\n",
    "### load the state of the old model\n",
    "model.load_weights(\"../thesis/models/CNN+MFBFTabular\")"
   ],
   "outputs": [
    {
     "output_type": "stream",
     "name": "stdout",
     "text": [
      "663/663 [==============================] - 67s 68ms/step - loss: 0.3677 - sample_bernoulli_nll: 0.3535\n"
     ]
    },
    {
     "output_type": "execute_result",
     "data": {
      "text/plain": [
       "<tensorflow.python.training.tracking.util.CheckpointLoadStatus at 0x7f2cf566b820>"
      ]
     },
     "metadata": {},
     "execution_count": 98
    }
   ],
   "metadata": {}
  },
  {
   "cell_type": "markdown",
   "source": [
    "### Posterior parameter $\\beta_\\text{Age}$"
   ],
   "metadata": {}
  },
  {
   "cell_type": "code",
   "execution_count": 116,
   "source": [
    "plt.figure(figsize=(10,5))\n",
    "### get slope parameter from tabular model \n",
    "layer = nn_tab.layers[1]\n",
    "qw, w = layer.get_w_dist()\n",
    "plt.plot(w, qw, linewidth=1.5)\n",
    "plt.xlabel(\"$\\\\beta_1$(Age)\")\n",
    "plt.ylabel(\"$p(\\\\beta_1|D)$\")\n",
    "plt.xlabel(\"$\\\\beta_1$(Age)\")\n",
    "plt.ylabel(\"$p(\\\\beta_1|D)$\")"
   ],
   "outputs": [
    {
     "output_type": "execute_result",
     "data": {
      "text/plain": [
       "Text(0, 0.5, '$p(\\\\beta_1|D)$')"
      ]
     },
     "metadata": {},
     "execution_count": 116
    },
    {
     "output_type": "display_data",
     "data": {
      "image/png": "[encoded data removed]",
      "text/plain": [
       "<Figure size 720x360 with 1 Axes>"
      ]
     },
     "metadata": {
      "needs_background": "light"
     }
    }
   ],
   "metadata": {}
  },
  {
   "cell_type": "markdown",
   "source": [
    "### Performance NLL & AUC"
   ],
   "metadata": {}
  },
  {
   "cell_type": "code",
   "execution_count": 103,
   "source": [
    "### performance\n",
    "xtest = [test_imgs_scaled, standAgeTe]\n",
    "y_pred = model.predict(xtest,batch_size =1)\n",
    "\n",
    "samples = y_pred.reshape(-1, 1000) ###every datapoint one sample\n",
    "meanpred = samples.mean(axis=1)  ###mean samples \n",
    "predictions=meanpred.reshape(6626,1)"
   ],
   "outputs": [],
   "metadata": {}
  },
  {
   "cell_type": "code",
   "execution_count": 105,
   "source": [
    "logloss = neg_log_likelihood(test_labels,predictions)"
   ],
   "outputs": [
    {
     "output_type": "stream",
     "name": "stdout",
     "text": [
      "0.07633597942399716\n"
     ]
    }
   ],
   "metadata": {}
  },
  {
   "cell_type": "code",
   "execution_count": 108,
   "source": [
    "###AUC\n",
    "score, ci_lower, ci_upper, scores =score_ci(test_labels, meanpred, score_fun=roc_auc_score)\n",
    "print(\"AUC={:.2f}, 95% CI: {:.2f}-{:.2f}\".format(score, ci_lower, ci_upper))\n",
    "ciAuc= \"{:.2f}-{:.2f}\".format(ci_lower, ci_upper)\n",
    "log_loss = \"{:.3f}\".format(log_lossCNN)\n",
    "auc= \"{:.2f}\".format(auc_kerasCNN)\n"
   ],
   "outputs": [
    {
     "output_type": "stream",
     "name": "stdout",
     "text": [
      "AUC=0.82, 95% CI: 0.79-0.85\n"
     ]
    }
   ],
   "metadata": {}
  },
  {
   "cell_type": "markdown",
   "source": [
    "## Compare with MCMC"
   ],
   "metadata": {}
  },
  {
   "cell_type": "code",
   "execution_count": 109,
   "source": [
    "mcmc = pd.read_csv('../thesis/mcmcSampleTabular.csv')\n",
    "sampleSlope = mcmc[\"slope\"]"
   ],
   "outputs": [],
   "metadata": {}
  },
  {
   "cell_type": "code",
   "execution_count": 115,
   "source": [
    "#### plot variational Distribution\n",
    "plt.figure(figsize=(13,6))\n",
    "sns.kdeplot(sampleSlope, color='g',zorder=2, label=r'MCMC',linewidth=5., linestyle=(0, (1, 1.5)))\n",
    "plt.plot(w, qw, label =\"Image & tabular data\",linewidth=2.0)\n",
    "plt.legend(fontsize=14)\n",
    "plt.xlabel(\"$\\\\beta_1$\",fontsize=14)\n",
    "plt.ylabel(\"density\",fontsize=14)"
   ],
   "outputs": [
    {
     "output_type": "execute_result",
     "data": {
      "text/plain": [
       "Text(0, 0.5, 'density')"
      ]
     },
     "metadata": {},
     "execution_count": 115
    },
    {
     "output_type": "display_data",
     "data": {
      "image/png": "[encoded data removed]",
      "text/plain": [
       "<Figure size 936x432 with 1 Axes>"
      ]
     },
     "metadata": {
      "needs_background": "light"
     }
    }
   ],
   "metadata": {}
  }
 ],
 "metadata": {
  "kernelspec": {
   "name": "python3",
   "display_name": "Python 3.9.2 64-bit ('tf_gpu': conda)"
  },
  "language_info": {
   "codemirror_mode": {
    "name": "ipython",
    "version": 3
   },
   "file_extension": ".py",
   "mimetype": "text/x-python",
   "name": "python",
   "nbconvert_exporter": "python",
   "pygments_lexer": "ipython3",
   "version": "3.9.2"
  },
  "interpreter": {
   "hash": "3e3dafe5b1df5369e4b2ac6ca2e05e0998fc5972f105e84372a5f699265faf4f"
  }
 },
 "nbformat": 4,
 "nbformat_minor": 4
}